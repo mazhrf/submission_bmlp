{
  "cells": [
    {
      "cell_type": "markdown",
      "metadata": {
        "id": "fKADPWcFKlj3"
      },
      "source": [
        "# **1. Import Library**"
      ]
    },
    {
      "cell_type": "markdown",
      "metadata": {
        "id": "LgA3ERnVn84N"
      },
      "source": [
        "Pada tahap ini, Anda perlu mengimpor beberapa pustaka (library) Python yang dibutuhkan untuk analisis data dan pembangunan model machine learning."
      ]
    },
    {
      "cell_type": "code",
      "execution_count": 18,
      "metadata": {
        "id": "BlmvjLY9M4Yj"
      },
      "outputs": [],
      "source": [
        "import pandas as pd\n",
        "import numpy as np\n",
        "import matplotlib.pyplot as plt\n",
        "import seaborn as sns\n",
        "\n",
        "from sklearn.preprocessing import LabelEncoder, OneHotEncoder, StandardScaler\n",
        "\n",
        "from sklearn.ensemble import RandomForestClassifier\n",
        "from sklearn.linear_model import LogisticRegression\n",
        "from sklearn.neighbors import KNeighborsClassifier\n",
        "from sklearn.svm import SVC\n",
        "from sklearn.tree import DecisionTreeClassifier\n",
        "\n",
        "from sklearn.metrics import accuracy_score, classification_report, confusion_matrix, f1_score\n",
        "\n",
        "from sklearn.model_selection import train_test_split, GridSearchCV, RandomizedSearchCV\n",
        "\n",
        "from google.colab import drive"
      ]
    },
    {
      "cell_type": "markdown",
      "metadata": {
        "id": "f3YIEnAFKrKL"
      },
      "source": [
        "# **2. Memuat Dataset dari Hasil Clustering**"
      ]
    },
    {
      "cell_type": "markdown",
      "metadata": {
        "id": "Ey3ItwTen_7E"
      },
      "source": [
        "Memuat dataset hasil clustering dari file CSV ke dalam variabel DataFrame."
      ]
    },
    {
      "cell_type": "code",
      "execution_count": 2,
      "metadata": {
        "colab": {
          "base_uri": "https://localhost:8080/"
        },
        "id": "GHCGNTyrM5fS",
        "outputId": "b58de60c-9a3f-42ad-ba05-df1ebc180175"
      },
      "outputs": [
        {
          "output_type": "stream",
          "name": "stdout",
          "text": [
            "Mounted at /content/drive\n",
            "  provinsi    jenis     daerah   tahun    periode        gk  Cluster\n",
            "0     ACEH  MAKANAN  PERKOTAAN  2015.0      MARET  293697.0        0\n",
            "1     ACEH  MAKANAN  PERKOTAAN  2015.0  SEPTEMBER  302128.0        1\n",
            "2     ACEH  MAKANAN  PERKOTAAN  2016.0      MARET  306243.0        0\n",
            "3     ACEH  MAKANAN  PERKOTAAN  2016.0  SEPTEMBER  319768.0        1\n",
            "4     ACEH  MAKANAN  PERDESAAN  2015.0      MARET  297479.0        0\n"
          ]
        }
      ],
      "source": [
        "drive.mount('/content/drive')\n",
        "\n",
        "df = pd.read_csv('/content/drive/MyDrive/data/Dataset_clustering.csv')\n",
        "print(df.head())"
      ]
    },
    {
      "cell_type": "markdown",
      "metadata": {
        "id": "KkPem5eWL2UP"
      },
      "source": [
        "# **3. Data Splitting**"
      ]
    },
    {
      "cell_type": "markdown",
      "metadata": {
        "id": "YYj1rl_JNI9Y"
      },
      "source": [
        "Tahap Data Splitting bertujuan untuk memisahkan dataset menjadi dua bagian: data latih (training set) dan data uji (test set)."
      ]
    },
    {
      "cell_type": "code",
      "execution_count": 13,
      "metadata": {
        "colab": {
          "base_uri": "https://localhost:8080/"
        },
        "id": "OubAW-7ONKVj",
        "outputId": "f0000434-d068-47d2-a046-55546550a15f"
      },
      "outputs": [
        {
          "output_type": "stream",
          "name": "stdout",
          "text": [
            "Jumlah data latih: 4150\n",
            "Jumlah data uji: 1038\n"
          ]
        }
      ],
      "source": [
        "X = df.select_dtypes(include=['number']).drop(columns=['Cluster'])\n",
        "y = df['Cluster']\n",
        "\n",
        "X_train, X_test, y_train, y_test = train_test_split(X, y, test_size=0.2, random_state=42, stratify=y)\n",
        "\n",
        "scaler = StandardScaler()\n",
        "X_train_scaled = scaler.fit_transform(X_train)\n",
        "X_test_scaled = scaler.transform(X_test)\n",
        "\n",
        "print(\"Jumlah data latih:\", X_train.shape[0])\n",
        "print(\"Jumlah data uji:\", X_test.shape[0])"
      ]
    },
    {
      "cell_type": "markdown",
      "metadata": {
        "id": "IVPbB03CMhTT"
      },
      "source": [
        "# **4. Membangun Model Klasifikasi**\n"
      ]
    },
    {
      "cell_type": "markdown",
      "metadata": {
        "id": "Ned1pL9zMmBK"
      },
      "source": [
        "## **a. Membangun Model Klasifikasi**"
      ]
    },
    {
      "cell_type": "markdown",
      "metadata": {
        "id": "WAWzPOE4Nkti"
      },
      "source": [
        "Setelah memilih algoritma klasifikasi yang sesuai, langkah selanjutnya adalah melatih model menggunakan data latih.\n",
        "\n",
        "Berikut adalah rekomendasi tahapannya.\n",
        "1. Pilih algoritma klasifikasi yang sesuai, seperti Logistic Regression, Decision Tree, Random Forest, atau K-Nearest Neighbors (KNN).\n",
        "2. Latih model menggunakan data latih."
      ]
    },
    {
      "cell_type": "code",
      "execution_count": 4,
      "metadata": {
        "id": "4JYxBe87NLDk"
      },
      "outputs": [],
      "source": [
        "rf = RandomForestClassifier(n_estimators=50, max_depth=10, min_samples_split=10,  min_samples_leaf=5, random_state=42)\n",
        "rf.fit(X_train_scaled, y_train)\n",
        "y_pred_rf = rf.predict(X_test_scaled)\n",
        "\n",
        "lr = LogisticRegression()\n",
        "lr.fit(X_train_scaled, y_train)\n",
        "y_pred_lr = lr.predict(X_test_scaled)"
      ]
    },
    {
      "cell_type": "markdown",
      "metadata": {
        "id": "seYoHNY3XU1y"
      },
      "source": [
        "Random Forest adalah metode berbasis ensemble yang membangun beberapa pohon keputusan dan menggabungkan prediksinya untuk meningkatkan akurasi dan mengurangi overfitting.\n",
        "\n",
        "Linear Regression adalah model linear yang digunakan untuk memprediksi probabilitas suatu kelas berdasarkan hubungan logistik antara variabel independen dan target."
      ]
    },
    {
      "cell_type": "markdown",
      "metadata": {
        "id": "ergzChZFEL-O"
      },
      "source": [
        "## **b. Evaluasi Model Klasifikasi**"
      ]
    },
    {
      "cell_type": "markdown",
      "metadata": {
        "id": "zOm68u-7NpLT"
      },
      "source": [
        "Berikut adalah **rekomendasi** tahapannya.\n",
        "1. Lakukan prediksi menggunakan data uji.\n",
        "2. Hitung metrik evaluasi seperti Accuracy dan F1-Score (Opsional: Precision dan Recall).\n",
        "3. Buat confusion matrix untuk melihat detail prediksi benar dan salah."
      ]
    },
    {
      "cell_type": "code",
      "source": [
        "y_pred_rf_test = rf.predict(X_test_scaled)\n",
        "y_pred_lr_test = lr.predict(X_test_scaled)\n",
        "\n",
        "accuracy_rf_test = accuracy_score(y_test, y_pred_rf_test)\n",
        "f1_rf_test = f1_score(y_test, y_pred_rf_test, average='weighted')\n",
        "\n",
        "print(\"**Random Forest**\")\n",
        "print(f\"Accuracy: {accuracy_rf_test:.4f}\")\n",
        "print(f\"F1-Score: {f1_rf_test:.4f}\")\n",
        "print(\"Classification Report:\")\n",
        "print(classification_report(y_test, y_pred_rf_test))\n",
        "\n",
        "accuracy_lr_test = accuracy_score(y_test, y_pred_lr_test)\n",
        "f1_lr_test = f1_score(y_test, y_pred_lr_test, average='weighted')\n",
        "\n",
        "print(\"\\n**Logistic Regression**\")\n",
        "print(f\"Accuracy: {accuracy_lr_test:.4f}\")\n",
        "print(f\"F1-Score: {f1_lr_test:.4f}\")\n",
        "print(\"Classification Report:\")\n",
        "print(classification_report(y_test, y_pred_lr_test))"
      ],
      "metadata": {
        "colab": {
          "base_uri": "https://localhost:8080/"
        },
        "id": "JGdrve8FCuoS",
        "outputId": "75e98d70-d0f9-47ed-c3f9-d841661e58cd"
      },
      "execution_count": 26,
      "outputs": [
        {
          "output_type": "stream",
          "name": "stdout",
          "text": [
            "**Random Forest**\n",
            "Accuracy: 0.4836\n",
            "F1-Score: 0.4820\n",
            "Classification Report:\n",
            "              precision    recall  f1-score   support\n",
            "\n",
            "           0       0.51      0.58      0.54       354\n",
            "           1       0.51      0.45      0.48       348\n",
            "           2       0.42      0.40      0.41       168\n",
            "           3       0.43      0.44      0.43       168\n",
            "\n",
            "    accuracy                           0.48      1038\n",
            "   macro avg       0.47      0.47      0.47      1038\n",
            "weighted avg       0.48      0.48      0.48      1038\n",
            "\n",
            "\n",
            "**Logistic Regression**\n",
            "Accuracy: 0.5067\n",
            "F1-Score: 0.5015\n",
            "Classification Report:\n",
            "              precision    recall  f1-score   support\n",
            "\n",
            "           0       0.50      0.60      0.55       354\n",
            "           1       0.50      0.40      0.44       348\n",
            "           2       0.53      0.41      0.46       168\n",
            "           3       0.51      0.62      0.56       168\n",
            "\n",
            "    accuracy                           0.51      1038\n",
            "   macro avg       0.51      0.51      0.50      1038\n",
            "weighted avg       0.51      0.51      0.50      1038\n",
            "\n"
          ]
        }
      ]
    },
    {
      "cell_type": "code",
      "execution_count": 15,
      "metadata": {
        "id": "KDjOR5jG_ez7"
      },
      "outputs": [],
      "source": [
        "def plot_confusion_matrix(y_true, y_pred, model_name):\n",
        "    cm = confusion_matrix(y_true, y_pred)\n",
        "    plt.figure(figsize=(6, 5))\n",
        "    sns.heatmap(cm, annot=True, fmt=\"d\", cmap=\"Blues\", xticklabels=set(y_true), yticklabels=set(y_true))\n",
        "    plt.xlabel(\"Predicted Label\")\n",
        "    plt.ylabel(\"True Label\")\n",
        "    plt.title(f\"Confusion Matrix - {model_name}\")\n",
        "    plt.show()"
      ]
    },
    {
      "cell_type": "code",
      "execution_count": 16,
      "metadata": {
        "colab": {
          "base_uri": "https://localhost:8080/",
          "height": 487
        },
        "id": "dZLjCrjfEUAj",
        "outputId": "1de23031-67c5-46ba-d6f2-abb3e9347ab7"
      },
      "outputs": [
        {
          "output_type": "display_data",
          "data": {
            "text/plain": [
              "<Figure size 600x500 with 2 Axes>"
            ],
            "image/png": "[encoded data removed]"
          },
          "metadata": {}
        }
      ],
      "source": [
        "plot_confusion_matrix(y_test, y_pred_rf, \"Random Forest\")"
      ]
    },
    {
      "cell_type": "code",
      "execution_count": 17,
      "metadata": {
        "colab": {
          "base_uri": "https://localhost:8080/",
          "height": 487
        },
        "id": "tDK_3kW8EQIB",
        "outputId": "b82a4fef-8666-4a29-ff87-cb771f343300"
      },
      "outputs": [
        {
          "output_type": "display_data",
          "data": {
            "text/plain": [
              "<Figure size 600x500 with 2 Axes>"
            ],
            "image/png": "[encoded data removed]"
          },
          "metadata": {}
        }
      ],
      "source": [
        "plot_confusion_matrix(y_test, y_pred_lr, \"Logistic Regression\")"
      ]
    },
    {
      "cell_type": "markdown",
      "metadata": {
        "id": "H4_9OwrsXZlz"
      },
      "source": [
        "Random Forest Evaluation  \n",
        "**Accuracy: `0.4836`**  \n",
        "**F1-Score: `0.4820`**   \n",
        "\n",
        "Logistic Regression Evaluation  \n",
        "**Accuracy: `0.5067`**  \n",
        "**F1-Score: `0.5015`**\n",
        "\n",
        "Hasil evaluasi menunjukkan bahwa **Logistic Regression memberikan performa yang lebih baik** dibandingkan** Random Forest** berdasarkan hasil akurasi dan F1-score. Logistic Regression mencapai akurasi lebih tinggi sebesar **50.67% dibandingkan Random Forest dengan akurasi 48.36%**. Hal yang sama berlaku untuk F1-score, di mana **Logistic Regression mencapai 0.5015 dibandingkan 0.4820 pada Random Forest**."
      ]
    },
    {
      "cell_type": "markdown",
      "metadata": {
        "id": "ph9yIYDXEPuB"
      },
      "source": [
        "## **c. Tuning Model Klasifikasi (Optional)**"
      ]
    },
    {
      "cell_type": "markdown",
      "metadata": {
        "id": "-Bikx3LINv5e"
      },
      "source": [
        "Gunakan GridSearchCV, RandomizedSearchCV, atau metode lainnya untuk mencari kombinasi hyperparameter terbaik"
      ]
    },
    {
      "cell_type": "code",
      "execution_count": 19,
      "metadata": {
        "colab": {
          "base_uri": "https://localhost:8080/"
        },
        "id": "winbFzb8NL95",
        "outputId": "81d7cb3c-733e-4083-f81a-239e95b5fcb5"
      },
      "outputs": [
        {
          "output_type": "stream",
          "name": "stdout",
          "text": [
            "Best Params: {'max_depth': None, 'min_samples_leaf': 1, 'min_samples_split': 10, 'n_estimators': 50}\n"
          ]
        }
      ],
      "source": [
        "param_grid = {\n",
        "    'n_estimators': [50, 100, 200],\n",
        "    'max_depth': [10, 20, None],\n",
        "    'min_samples_split': [2, 5, 10],\n",
        "    'min_samples_leaf': [1, 2, 5]\n",
        "}\n",
        "\n",
        "grid_search = GridSearchCV(rf, param_grid, cv=5, scoring='accuracy', n_jobs=-1)\n",
        "grid_search.fit(X_train_scaled, y_train)\n",
        "\n",
        "print(\"Best Params:\", grid_search.best_params_)"
      ]
    },
    {
      "cell_type": "code",
      "source": [
        "param_dist = {\n",
        "    'n_estimators': [50, 100, 200],\n",
        "    'max_depth': [10, 20, None],\n",
        "    'min_samples_split': [2, 5, 10],\n",
        "    'min_samples_leaf': [1, 2, 5]\n",
        "}\n",
        "\n",
        "\n",
        "random_search = RandomizedSearchCV(\n",
        "    estimator=rf,\n",
        "    param_distributions=param_dist,\n",
        "    n_iter=20,\n",
        "    cv=5,\n",
        "    scoring='accuracy',\n",
        "    n_jobs=-1,\n",
        "    random_state=42\n",
        ")\n",
        "\n",
        "random_search.fit(X_train_scaled, y_train)\n",
        "\n",
        "print(\"Best Params:\", random_search.best_params_)"
      ],
      "metadata": {
        "colab": {
          "base_uri": "https://localhost:8080/"
        },
        "id": "B9rHgBDvFNtB",
        "outputId": "35a98ef5-b1e8-495b-e932-844fe6bd639e"
      },
      "execution_count": 23,
      "outputs": [
        {
          "output_type": "stream",
          "name": "stdout",
          "text": [
            "Best Params: {'n_estimators': 100, 'min_samples_split': 5, 'min_samples_leaf': 2, 'max_depth': None}\n"
          ]
        }
      ]
    },
    {
      "cell_type": "markdown",
      "metadata": {
        "id": "hE7pqlEPEYzI"
      },
      "source": [
        "## **d. Evaluasi Model Klasifikasi setelah Tuning (Optional)**"
      ]
    },
    {
      "cell_type": "markdown",
      "metadata": {
        "id": "feaPESoeN0zz"
      },
      "source": [
        "Berikut adalah rekomendasi tahapannya.\n",
        "1. Gunakan model dengan hyperparameter terbaik.\n",
        "2. Hitung ulang metrik evaluasi untuk melihat apakah ada peningkatan performa."
      ]
    },
    {
      "cell_type": "code",
      "execution_count": 21,
      "metadata": {
        "id": "HTXZRvEeNMb1"
      },
      "outputs": [],
      "source": [
        "best_rf = RandomForestClassifier(max_depth=None, min_samples_leaf=2, min_samples_split=5, n_estimators=100, random_state=42)\n",
        "best_rf.fit(X_train_scaled, y_train)\n",
        "\n",
        "y_pred_best_rf = best_rf.predict(X_test_scaled)"
      ]
    },
    {
      "cell_type": "code",
      "execution_count": 24,
      "metadata": {
        "colab": {
          "base_uri": "https://localhost:8080/"
        },
        "id": "RfDFIUioKSK1",
        "outputId": "fc4256a7-ce25-4283-bdfb-04a464f1c8d9"
      },
      "outputs": [
        {
          "output_type": "stream",
          "name": "stdout",
          "text": [
            "Accuracy after tuning: 0.4942\n",
            "F1-Score after tuning: 0.4934\n",
            "Classification Report after tuning:\n",
            "              precision    recall  f1-score   support\n",
            "\n",
            "           0       0.50      0.54      0.52       354\n",
            "           1       0.50      0.46      0.48       348\n",
            "           2       0.48      0.45      0.46       168\n",
            "           3       0.48      0.51      0.50       168\n",
            "\n",
            "    accuracy                           0.49      1038\n",
            "   macro avg       0.49      0.49      0.49      1038\n",
            "weighted avg       0.49      0.49      0.49      1038\n",
            "\n"
          ]
        }
      ],
      "source": [
        "accuracy = accuracy_score(y_test, y_pred_best_rf)\n",
        "f1 = f1_score(y_test, y_pred_best_rf, average='weighted')\n",
        "\n",
        "print(f\"Accuracy after tuning: {accuracy:.4f}\")\n",
        "print(f\"F1-Score after tuning: {f1:.4f}\")\n",
        "\n",
        "print(\"Classification Report after tuning:\")\n",
        "print(classification_report(y_test, y_pred_best_rf))"
      ]
    },
    {
      "cell_type": "code",
      "source": [
        "plt.figure(figsize=(6,5))\n",
        "sns.heatmap(confusion_matrix(y_test, y_pred_best_rf), annot=True, fmt='d', cmap='Blues')\n",
        "plt.xlabel(\"Predicted Label\")\n",
        "plt.ylabel(\"True Label\")\n",
        "plt.title(\"Confusion Matrix after Tuning\")\n",
        "plt.show()"
      ],
      "metadata": {
        "colab": {
          "base_uri": "https://localhost:8080/",
          "height": 487
        },
        "id": "oHe8bzAkHM1Y",
        "outputId": "110852a8-757a-418d-a59a-753a55197d29"
      },
      "execution_count": 25,
      "outputs": [
        {
          "output_type": "display_data",
          "data": {
            "text/plain": [
              "<Figure size 600x500 with 2 Axes>"
            ],
            "image/png": "[encoded data removed]"
          },
          "metadata": {}
        }
      ]
    },
    {
      "cell_type": "markdown",
      "metadata": {
        "id": "ZRsOdm4uEgAW"
      },
      "source": [
        "## **e. Analisis Hasil Evaluasi Model Klasifikasi**"
      ]
    },
    {
      "cell_type": "markdown",
      "metadata": {
        "id": "Hm3BhSi6N4_l"
      },
      "source": [
        "Rekomendasi Evaluasi Model Random Forest\n",
        "\n",
        "1. Perbandingan Hasil Evaluasi Sebelum dan Setelah Tuning\n",
        "  - **Sebelum Tuning:**\n",
        "    - **Akurasi:** 0.4836  \n",
        "    - **F1-Score:** 0.4820  \n",
        "\n",
        "  - **Setelah Tuning:**\n",
        "    - **Akurasi:** 0.4942  \n",
        "    - **F1-Score:** 0.4934  \n",
        "\n",
        "Kesimpulan:\n",
        "  - Setelah tuning, model mengalami **sedikit peningkatan performa** dari segi akurasi dan F1-score.\n",
        "  - Hal ini menunjukkan bahwa tuning parameter telah membantu model menangkap pola data lebih baik, meskipun peningkatannya tidak terlalu besar.\n",
        "  - **Tidak ada indikasi overfitting**, karena hasil akurasi dan F1-score tetap cukup konsisten antara sebelum dan setelah tuning.\n",
        "\n",
        "---\n",
        "\n",
        "2. Analisis Classification Report\n",
        "  - **Precision dan Recall pada setiap kelas cukup seimbang**, yang berarti model bekerja stabil dalam memprediksi berbagai kelas.\n",
        "  - **F1-score pada kelas 2 dan 3 menunjukkan performa lebih rendah** dibandingkan kelas lainnya, yang perlu diperhatikan lebih lanjut.\n",
        "\n",
        "---\n",
        "\n",
        "3. Rekomendasi Langkah Lanjutan\n",
        "Berikut adalah langkah-langkah yang dapat dilakukan untuk meningkatkan performa model:\n",
        "  1. **Kumpulkan Lebih Banyak Data:**  \n",
        "    Tambahkan data latih, terutama untuk kelas dengan jumlah data yang mungkin lebih sedikit dan menyebabkan F1-score rendah.\n",
        "\n",
        "  2. **Coba Algoritma Lain:**  \n",
        "    Algoritma seperti **Gradient Boosting** atau **XGBoost** mungkin dapat memberikan peningkatan performa yang lebih signifikan pada dataset ini.\n",
        "\n",
        "  3. **Gunakan Teknik Balancing:**  \n",
        "    Jika terdapat ketidakseimbangan jumlah data antar kelas, pertimbangkan untuk menggunakan **SMOTE (Synthetic Minority Oversampling Technique)** atau metode balancing lainnya.\n",
        "\n",
        "  4. **Lakukan Tuning Lebih Lanjut:**  \n",
        "      - Perluas ruang pencarian parameter, atau tingkatkan jumlah iterasi pada tuning dengan `RandomizedSearchCV`.  \n",
        "      - Ini akan membantu model menemukan kombinasi parameter yang lebih optimal."
      ]
    }
  ],
  "metadata": {
    "colab": {
      "provenance": []
    },
    "kernelspec": {
      "display_name": "Python 3",
      "name": "python3"
    },
    "language_info": {
      "name": "python"
    }
  },
  "nbformat": 4,
  "nbformat_minor": 0
}